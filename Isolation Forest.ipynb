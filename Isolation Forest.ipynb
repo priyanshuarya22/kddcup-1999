{
 "cells": [
  {
   "cell_type": "markdown",
   "metadata": {},
   "source": [
    "# Anomaly Detection with an Isolation Forest"
   ]
  },
  {
   "cell_type": "code",
   "execution_count": 1,
   "metadata": {},
   "outputs": [],
   "source": [
    "import numpy as np\n",
    "import pandas as pd\n",
    "import matplotlib.pyplot as plt\n",
    "from sklearn.ensemble import IsolationForest\n",
    "from sklearn.linear_model import LogisticRegression\n",
    "from sklearn.model_selection import train_test_split\n",
    "from sklearn.preprocessing import LabelEncoder"
   ]
  },
  {
   "cell_type": "markdown",
   "metadata": {},
   "source": [
    "# Data Preparation"
   ]
  },
  {
   "cell_type": "code",
   "execution_count": 3,
   "metadata": {},
   "outputs": [],
   "source": [
    "columns = [\"duration\", \"protocol_type\", \"service\", \"flag\",\n",
    "\"src_bytes\", \"dst_bytes\", \"land\", \"wrong_fragment\", \"urgent\",\n",
    "\"hot\", \"num_failed_logins\", \"logged_in\", \n",
    "\"num_compromised\", \"root_shell\", \"su_attempted\", \"num_root\", \n",
    "\"num_file_creations\", \"num_shells\", \n",
    "\"num_access_files\", \"num_outbound_cmds\", \"is_host_login\",\n",
    "\"is_guest_login\", \"count\", \"srv_count\", \"serror_rate\", \n",
    "\"srv_serror_rate\", \"rerror_rate\", \"srv_rerror_rate\",\n",
    "\"same_srv_rate\", \"diff_srv_rate\", \n",
    "\"srv_diff_host_rate\", \"dst_host_count\", \"dst_host_srv_count\",\n",
    "\"dst_host_same_srv_rate\", \"dst_host_diff_srv_rate\",\n",
    "\"dst_host_same_src_port_rate\", \"dst_host_srv_diff_host_rate\",\n",
    "\"dst_host_serror_rate\", \"dst_host_srv_serror_rate\",\n",
    "\"dst_host_rerror_rate\", \"dst_host_srv_rerror_rate\", \"label\"]\n",
    "\n",
    "df = pd.read_csv(\"./kddcup.data/kddcup.data.corrected\", sep=\",\", names=columns, index_col=None)"
   ]
  },
  {
   "cell_type": "markdown",
   "metadata": {},
   "source": [
    "Filter to only 'http' attacks"
   ]
  },
  {
   "cell_type": "code",
   "execution_count": 4,
   "metadata": {},
   "outputs": [],
   "source": [
    "df = df[df[\"service\"] == \"http\"]\n",
    "df = df.drop(\"service\", axis=1)"
   ]
  },
  {
   "cell_type": "code",
   "execution_count": 5,
   "metadata": {},
   "outputs": [
    {
     "data": {
      "text/plain": [
       "label\n",
       "normal.       619046\n",
       "back.           2203\n",
       "neptune.        1801\n",
       "portsweep.        16\n",
       "ipsweep.          13\n",
       "satan.             7\n",
       "phf.               4\n",
       "nmap.              1\n",
       "Name: count, dtype: int64"
      ]
     },
     "execution_count": 5,
     "metadata": {},
     "output_type": "execute_result"
    }
   ],
   "source": [
    "df[\"label\"].value_counts()"
   ]
  },
  {
   "cell_type": "markdown",
   "metadata": {},
   "source": [
    "Label of 'normal.' becomes 0, and anything else becomes 1 and is treated as an anomaly."
   ]
  },
  {
   "cell_type": "code",
   "execution_count": 6,
   "metadata": {},
   "outputs": [
    {
     "data": {
      "text/plain": [
       "label\n",
       "0    619046\n",
       "1      4045\n",
       "Name: count, dtype: int64"
      ]
     },
     "execution_count": 6,
     "metadata": {},
     "output_type": "execute_result"
    }
   ],
   "source": [
    "df['label'] = df['label'].apply(lambda x: 0 if x=='normal.' else 1)\n",
    "df['label'].value_counts()"
   ]
  },
  {
   "cell_type": "code",
   "execution_count": 7,
   "metadata": {},
   "outputs": [],
   "source": [
    "datatypes = dict(zip(df.dtypes.index, df.dtypes))"
   ]
  },
  {
   "cell_type": "code",
   "execution_count": 8,
   "metadata": {},
   "outputs": [],
   "source": [
    "encoder_map = {}\n",
    "for col, datatype in datatypes.items():\n",
    "    if datatype == 'object':\n",
    "        encoder = LabelEncoder()\n",
    "        df[col] = encoder.fit_transform(df[col])\n",
    "        encoder_map[col] = encoder"
   ]
  },
  {
   "cell_type": "markdown",
   "metadata": {},
   "source": [
    "Check the variables with highest correlation with 'label'"
   ]
  },
  {
   "cell_type": "code",
   "execution_count": 9,
   "metadata": {},
   "outputs": [],
   "source": [
    "df2 = df.copy()\n",
    "label_corr = df2.corr()['label']"
   ]
  },
  {
   "cell_type": "markdown",
   "metadata": {},
   "source": [
    "Filter out anything that has null entry or is not weakly correlated"
   ]
  },
  {
   "cell_type": "code",
   "execution_count": 12,
   "metadata": {},
   "outputs": [
    {
     "data": {
      "text/plain": [
       "['src_bytes',\n",
       " 'hot',\n",
       " 'num_compromised',\n",
       " 'count',\n",
       " 'serror_rate',\n",
       " 'srv_serror_rate',\n",
       " 'same_srv_rate',\n",
       " 'diff_srv_rate',\n",
       " 'dst_host_srv_count',\n",
       " 'dst_host_same_srv_rate',\n",
       " 'dst_host_diff_srv_rate',\n",
       " 'dst_host_serror_rate',\n",
       " 'dst_host_srv_serror_rate']"
      ]
     },
     "execution_count": 12,
     "metadata": {},
     "output_type": "execute_result"
    }
   ],
   "source": [
    "train_cols = label_corr[(~label_corr.isna()) & (np.abs(label_corr) > 0.2)]\n",
    "train_cols = list(train_cols[:-1].index)\n",
    "train_cols"
   ]
  },
  {
   "cell_type": "code",
   "execution_count": 13,
   "metadata": {},
   "outputs": [],
   "source": [
    "labels = df2['label']"
   ]
  },
  {
   "cell_type": "markdown",
   "metadata": {},
   "source": [
    "Conduct a train-test split"
   ]
  },
  {
   "cell_type": "code",
   "execution_count": 14,
   "metadata": {},
   "outputs": [],
   "source": [
    "x_train, x_test, y_train, y_test = train_test_split(df2[train_cols].values, labels.values, test_size=0.15, random_state=42)"
   ]
  },
  {
   "cell_type": "markdown",
   "metadata": {},
   "source": [
    "Additional split of training dataset to create validation split"
   ]
  },
  {
   "cell_type": "code",
   "execution_count": 15,
   "metadata": {},
   "outputs": [],
   "source": [
    "x_train, x_val, y_train, y_val = train_test_split(x_train, y_train, test_size=0.2, random_state=42)"
   ]
  },
  {
   "cell_type": "code",
   "execution_count": 16,
   "metadata": {},
   "outputs": [
    {
     "name": "stdout",
     "output_type": "stream",
     "text": [
      "Shapes\n",
      "x_train:(423701, 13)\n",
      "y_train:(423701,)\n",
      "\n",
      "x_val:(105926, 13)\n",
      "y_val:(105926,)\n",
      "\n",
      "x_test:(93464, 13)\n",
      "y_test:(93464,)\n"
     ]
    }
   ],
   "source": [
    "print(\"Shapes\")\n",
    "print(f\"x_train:{x_train.shape}\\ny_train:{y_train.shape}\")\n",
    "print(f\"\\nx_val:{x_val.shape}\\ny_val:{y_val.shape}\")\n",
    "print(f\"\\nx_test:{x_test.shape}\\ny_test:{y_test.shape}\")"
   ]
  },
  {
   "cell_type": "markdown",
   "metadata": {},
   "source": [
    "# Training"
   ]
  },
  {
   "cell_type": "markdown",
   "metadata": {},
   "source": [
    "Let's try out isolation forest with stock parameters. It may take a bit of time to train."
   ]
  },
  {
   "cell_type": "code",
   "execution_count": 17,
   "metadata": {},
   "outputs": [],
   "source": [
    "isolation_forest = IsolationForest(random_state=42)"
   ]
  },
  {
   "cell_type": "code",
   "execution_count": 18,
   "metadata": {},
   "outputs": [],
   "source": [
    "isolation_forest.fit(x_train)\n",
    "anomaly_scores = isolation_forest.decision_function(x_train)"
   ]
  },
  {
   "cell_type": "code",
   "execution_count": 19,
   "metadata": {},
   "outputs": [
    {
     "data": {
      "image/png": "[encoded data removed]",
      "text/plain": [
       "<Figure size 1000x500 with 1 Axes>"
      ]
     },
     "metadata": {},
     "output_type": "display_data"
    }
   ],
   "source": [
    "plt.figure(figsize=(10, 5))\n",
    "plt.hist(anomaly_scores, bins=100)\n",
    "plt.xlabel('Average Path Lengths')\n",
    "plt.ylabel('Number of Data Points')\n",
    "plt.show()"
   ]
  },
  {
   "cell_type": "code",
   "execution_count": 20,
   "metadata": {},
   "outputs": [],
   "source": [
    "from sklearn.metrics import precision_score, recall_score, f1_score, confusion_matrix, ConfusionMatrixDisplay, roc_auc_score"
   ]
  },
  {
   "cell_type": "code",
   "execution_count": 21,
   "metadata": {},
   "outputs": [
    {
     "name": "stdout",
     "output_type": "stream",
     "text": [
      "Precision: 1.0\n",
      "Recall: 0.4050179211469534\n",
      "F1-Measure: 0.576530612244898\n"
     ]
    }
   ],
   "source": [
    "threshold = -0.3\n",
    "anomalies = anomaly_scores < threshold\n",
    "\n",
    "precision = precision_score(y_train, anomalies)\n",
    "recall = recall_score(y_train, anomalies)\n",
    "f1 = f1_score(y_train, anomalies)\n",
    "\n",
    "print(f\"Precision: {precision}\")\n",
    "print(f\"Recall: {recall}\")\n",
    "print(f\"F1-Measure: {f1}\")"
   ]
  },
  {
   "cell_type": "markdown",
   "metadata": {},
   "source": [
    "# Hyperparameter Tuning"
   ]
  },
  {
   "cell_type": "markdown",
   "metadata": {},
   "source": [
    "estimate proportion of anomalies. It's about 0.0065, 0.0066"
   ]
  },
  {
   "cell_type": "code",
   "execution_count": 22,
   "metadata": {},
   "outputs": [
    {
     "data": {
      "text/plain": [
       "0.006584832228387471"
      ]
     },
     "execution_count": 22,
     "metadata": {},
     "output_type": "execute_result"
    }
   ],
   "source": [
    "(y_train==1).sum() / len(y_train)"
   ]
  },
  {
   "cell_type": "markdown",
   "metadata": {},
   "source": [
    "Given an isolation_forest instance, x, and y data, train and evaluate and return results"
   ]
  },
  {
   "cell_type": "code",
   "execution_count": 27,
   "metadata": {},
   "outputs": [],
   "source": [
    "def experiment(isolation_forest, x, y):\n",
    "    isolation_forest.fit(x)\n",
    "\n",
    "    anomaly_scores = isolation_forest.decision_function(x)\n",
    "\n",
    "    # Using a stock Logistic Regression model to predict labels\n",
    "    lr = LogisticRegression()\n",
    "    lr.fit(anomaly_scores.reshape(-1, 1), y)\n",
    "\n",
    "    preds = lr.predict(anomaly_scores.reshape(-1, 1))\n",
    "\n",
    "    pre = precision_score(y, preds)\n",
    "    rec = recall_score(y, preds)\n",
    "    f1 = f1_score(y, preds)\n",
    "\n",
    "    return {'precision': pre, 'recall': rec, 'f1': f1}"
   ]
  },
  {
   "cell_type": "markdown",
   "metadata": {},
   "source": [
    "Perform experimental search for max_samples"
   ]
  },
  {
   "cell_type": "code",
   "execution_count": 28,
   "metadata": {},
   "outputs": [],
   "source": [
    "validation_results = {}\n",
    "max_samples = [2**f for f in [8, 9, 10, 11, 12]]\n",
    "for max_sample in max_samples:\n",
    "    # We are fixing the n_estimators to 50 to be quicker. n_jobs=-1 lets us train on all cores\n",
    "    isolation_forest = IsolationForest(n_estimators=50, max_samples=max_sample, n_jobs=-1, contamination=0.0066, random_state=42)\n",
    "\n",
    "    res = experiment(isolation_forest, x_val, y_val)\n",
    "    validation_results[max_sample] = res"
   ]
  },
  {
   "cell_type": "markdown",
   "metadata": {},
   "source": [
    "Printing out the results of the validation. The optimal setting is between 512 and 4096"
   ]
  },
  {
   "cell_type": "code",
   "execution_count": 29,
   "metadata": {},
   "outputs": [
    {
     "data": {
      "text/plain": [
       "[(256, 0.5956175298804781),\n",
       " (512, 0.7805695142378559),\n",
       " (1024, 0.9556509298998569),\n",
       " (2048, 0.93361285814116),\n",
       " (4096, 0.777602523659306)]"
      ]
     },
     "execution_count": 29,
     "metadata": {},
     "output_type": "execute_result"
    }
   ],
   "source": [
    "[(f, validation_results[f]['f1']) for f in validation_results.keys()]"
   ]
  },
  {
   "cell_type": "markdown",
   "metadata": {},
   "source": [
    "Repeat validation with a narrower range"
   ]
  },
  {
   "cell_type": "code",
   "execution_count": 30,
   "metadata": {},
   "outputs": [],
   "source": [
    "validation_results = {}\n",
    "max_samples = range(500, 2200, 200)\n",
    "for max_sample in max_samples:\n",
    "    # We are fixing the n_estimators to 50 to be quicker. n_jobs=-1 lets us train on all cores\n",
    "    isolation_forest = IsolationForest(n_estimators=50, max_samples=max_sample, n_jobs=-1, contamination=0.0066, random_state=42)\n",
    "\n",
    "    res = experiment(isolation_forest, x_val, y_val)\n",
    "    validation_results[max_sample] = res"
   ]
  },
  {
   "cell_type": "code",
   "execution_count": 31,
   "metadata": {},
   "outputs": [
    {
     "data": {
      "text/plain": [
       "[(500, 0.7133984028393966),\n",
       " (700, 0.7355163727959698),\n",
       " (900, 0.7577741407528642),\n",
       " (1100, 0.9556509298998569),\n",
       " (1300, 0.9362606232294618),\n",
       " (1500, 0.956397426733381),\n",
       " (1700, 0.9323098394975575),\n",
       " (1900, 0.8104374520337683),\n",
       " (2100, 0.8592483419307295)]"
      ]
     },
     "execution_count": 31,
     "metadata": {},
     "output_type": "execute_result"
    }
   ],
   "source": [
    "[(f, validation_results[f]['f1']) for f in validation_results.keys()]"
   ]
  },
  {
   "cell_type": "markdown",
   "metadata": {},
   "source": [
    "Repeat validation with a narrower range"
   ]
  },
  {
   "cell_type": "code",
   "execution_count": 32,
   "metadata": {},
   "outputs": [],
   "source": [
    "validation_results = {}\n",
    "max_samples = list(range(950, 1110, 10)) + list(range(1300, 1800, 100))\n",
    "for max_sample in max_samples:\n",
    "    # We are fixing the n_estimators to 50 to be quicker. n_jobs=-1 lets us train on all cores\n",
    "    isolation_forest = IsolationForest(n_estimators=50, max_samples=max_sample, n_jobs=-1, contamination=0.0066, random_state=42)\n",
    "\n",
    "    res = experiment(isolation_forest, x_val, y_val)\n",
    "    validation_results[max_sample] = res"
   ]
  },
  {
   "cell_type": "code",
   "execution_count": 33,
   "metadata": {},
   "outputs": [
    {
     "data": {
      "text/plain": [
       "[(950, 0.9632299927901946),\n",
       " (960, 0.9618430525557955),\n",
       " (970, 0.9631768953068592),\n",
       " (980, 0.9604031677465803),\n",
       " (990, 0.9206819866567828),\n",
       " (1000, 0.9611510791366906),\n",
       " (1010, 0.9562096195262024),\n",
       " (1020, 0.9577060931899641),\n",
       " (1030, 0.9529243937232525),\n",
       " (1040, 0.9522451888809693),\n",
       " (1050, 0.8836858006042296),\n",
       " (1060, 0.9431245500359972),\n",
       " (1070, 0.9548387096774194),\n",
       " (1080, 0.9555236728837877),\n",
       " (1090, 0.9556509298998569),\n",
       " (1100, 0.9556509298998569),\n",
       " (1300, 0.9362606232294618),\n",
       " (1400, 0.9495380241648899),\n",
       " (1500, 0.956397426733381),\n",
       " (1600, 0.9468462083628633),\n",
       " (1700, 0.9323098394975575)]"
      ]
     },
     "execution_count": 33,
     "metadata": {},
     "output_type": "execute_result"
    }
   ],
   "source": [
    "[(f, validation_results[f]['f1']) for f in validation_results.keys()]"
   ]
  },
  {
   "cell_type": "markdown",
   "metadata": {},
   "source": [
    "Tuning max_features"
   ]
  },
  {
   "cell_type": "code",
   "execution_count": 34,
   "metadata": {},
   "outputs": [],
   "source": [
    "validation_results = {}\n",
    "max_features = range(5, 8, 1)\n",
    "for max_feature in max_features:\n",
    "    max_feature = max_feature / 10.0\n",
    "\n",
    "    # We are fixing the n_estimators to 50 to be quicker. n_jobs=-1 lets us train on all cores\n",
    "    isolation_forest = IsolationForest(n_estimators=50, max_samples=950, max_features=max_feature, n_jobs=-1, contamination=0.0066, random_state=42)\n",
    "\n",
    "    res = experiment(isolation_forest, x_val, y_val)\n",
    "    validation_results[max_feature] = res"
   ]
  },
  {
   "cell_type": "code",
   "execution_count": 35,
   "metadata": {},
   "outputs": [
    {
     "data": {
      "text/plain": [
       "[(0.5, 0.7455012853470437),\n",
       " (0.6, 0.9722627737226277),\n",
       " (0.7, 0.9693877551020408)]"
      ]
     },
     "execution_count": 35,
     "metadata": {},
     "output_type": "execute_result"
    }
   ],
   "source": [
    "[(f, validation_results[f]['f1']) for f in validation_results.keys()]"
   ]
  },
  {
   "cell_type": "markdown",
   "metadata": {},
   "source": [
    "Tuning max_features with a narrower range"
   ]
  },
  {
   "cell_type": "code",
   "execution_count": 36,
   "metadata": {},
   "outputs": [],
   "source": [
    "validation_results = {}\n",
    "max_features = range(55, 71, 1)\n",
    "for max_feature in max_features:\n",
    "    max_feature = max_feature / 100.0\n",
    "\n",
    "    # We are fixing the n_estimators to 50 to be quicker. n_jobs=-1 lets us train on all cores\n",
    "    isolation_forest = IsolationForest(n_estimators=50, max_samples=950, max_features=max_feature, n_jobs=-1, contamination=0.0066, random_state=42)\n",
    "\n",
    "    res = experiment(isolation_forest, x_val, y_val)\n",
    "    validation_results[max_feature] = res"
   ]
  },
  {
   "cell_type": "code",
   "execution_count": 37,
   "metadata": {},
   "outputs": [
    {
     "data": {
      "text/plain": [
       "[(0.55, 0.9722627737226277),\n",
       " (0.56, 0.9722627737226277),\n",
       " (0.57, 0.9722627737226277),\n",
       " (0.58, 0.9722627737226277),\n",
       " (0.59, 0.9722627737226277),\n",
       " (0.6, 0.9722627737226277),\n",
       " (0.61, 0.9722627737226277),\n",
       " (0.62, 0.9295154185022027),\n",
       " (0.63, 0.9295154185022027),\n",
       " (0.64, 0.9295154185022027),\n",
       " (0.65, 0.9295154185022027),\n",
       " (0.66, 0.9295154185022027),\n",
       " (0.67, 0.9295154185022027),\n",
       " (0.68, 0.9295154185022027),\n",
       " (0.69, 0.9295154185022027),\n",
       " (0.7, 0.9693877551020408)]"
      ]
     },
     "execution_count": 37,
     "metadata": {},
     "output_type": "execute_result"
    }
   ],
   "source": [
    "[(f, validation_results[f]['f1']) for f in validation_results.keys()]"
   ]
  },
  {
   "cell_type": "markdown",
   "metadata": {},
   "source": [
    "Tuning max_features with a narrower range"
   ]
  },
  {
   "cell_type": "code",
   "execution_count": 38,
   "metadata": {},
   "outputs": [],
   "source": [
    "validation_results = {}\n",
    "n_estimators = range(10, 110, 10)\n",
    "for n_estimator in n_estimators:\n",
    "    # We are fixing the n_estimators to 50 to be quick. n_jobs=-1 lets us train on all cores\n",
    "    isolation_forest = IsolationForest(n_estimators=n_estimator, max_samples=950, max_features=0.55, n_jobs=-1, contamination=0.0066, random_state=42)\n",
    "\n",
    "    res = experiment(isolation_forest, x_val, y_val)\n",
    "    validation_results[n_estimator] = res"
   ]
  },
  {
   "cell_type": "code",
   "execution_count": 39,
   "metadata": {},
   "outputs": [
    {
     "data": {
      "text/plain": [
       "[(10, 0.9799851742031134),\n",
       " (20, 0.9765395894428153),\n",
       " (30, 0.9758241758241758),\n",
       " (40, 0.9743964886613021),\n",
       " (50, 0.9722627737226277),\n",
       " (60, 0.9743964886613021),\n",
       " (70, 0.9659173313995649),\n",
       " (80, 0.9542203147353362),\n",
       " (90, 0.9568965517241379),\n",
       " (100, 0.958963282937365)]"
      ]
     },
     "execution_count": 39,
     "metadata": {},
     "output_type": "execute_result"
    }
   ],
   "source": [
    "[(f, validation_results[f]['f1']) for f in validation_results.keys()]"
   ]
  },
  {
   "cell_type": "markdown",
   "metadata": {},
   "source": [
    "# Evaluation and Summary"
   ]
  },
  {
   "cell_type": "markdown",
   "metadata": {},
   "source": [
    "Set our hyperparameters that we discovered during validation and train"
   ]
  },
  {
   "cell_type": "code",
   "execution_count": 41,
   "metadata": {},
   "outputs": [
    {
     "name": "stdout",
     "output_type": "stream",
     "text": [
      "Precision: 0.9760885082084225\n",
      "Recall: 0.9802867383512545\n",
      "F1-Measure: 0.9781831187410587\n"
     ]
    }
   ],
   "source": [
    "isolation_forest = IsolationForest(n_estimators=10, max_samples=950, max_features=0.55, n_jobs=-1, contamination=0.0066, random_state=42)\n",
    "\n",
    "isolation_forest.fit(x_train)\n",
    "anomaly_scores = isolation_forest.decision_function(x_train)\n",
    "\n",
    "lr = LogisticRegression()\n",
    "lr.fit(anomaly_scores.reshape(-1, 1), y_train)\n",
    "\n",
    "preds = lr.predict(anomaly_scores.reshape(-1, 1))\n",
    "\n",
    "precision = precision_score(y_train, preds)\n",
    "recall = recall_score(y_train, preds)\n",
    "f1 = f1_score(y_train, preds)\n",
    "\n",
    "print(f\"Precision: {precision}\")\n",
    "print(f\"Recall: {recall}\")\n",
    "print(f\"F1-Measure: {f1}\")"
   ]
  },
  {
   "cell_type": "code",
   "execution_count": 42,
   "metadata": {},
   "outputs": [
    {
     "name": "stdout",
     "output_type": "stream",
     "text": [
      "Precision: 0.9773519163763066\n",
      "Recall: 0.9859402460456942\n",
      "F1-Measure: 0.9816272965879265\n"
     ]
    }
   ],
   "source": [
    "anomaly_scores = isolation_forest.decision_function(x_test)\n",
    "\n",
    "preds = lr.predict(anomaly_scores.reshape(-1, 1))\n",
    "\n",
    "precision = precision_score(y_test, preds)\n",
    "recall = recall_score(y_test, preds)\n",
    "f1 = f1_score(y_test, preds)\n",
    "\n",
    "print(f\"Precision: {precision}\")\n",
    "print(f\"Recall: {recall}\")\n",
    "print(f\"F1-Measure: {f1}\")"
   ]
  },
  {
   "cell_type": "code",
   "execution_count": 43,
   "metadata": {},
   "outputs": [
    {
     "data": {
      "text/plain": [
       "0.9929001515496785"
      ]
     },
     "execution_count": 43,
     "metadata": {},
     "output_type": "execute_result"
    }
   ],
   "source": [
    "roc_auc_score(y_test, preds)"
   ]
  },
  {
   "cell_type": "code",
   "execution_count": 44,
   "metadata": {},
   "outputs": [
    {
     "data": {
      "image/png": "[encoded data removed]",
      "text/plain": [
       "<Figure size 640x480 with 2 Axes>"
      ]
     },
     "metadata": {},
     "output_type": "display_data"
    }
   ],
   "source": [
    "conf_mat = confusion_matrix(y_test, preds)\n",
    "ConfusionMatrixDisplay(conf_mat).plot()\n",
    "plt.show()"
   ]
  }
 ],
 "metadata": {
  "kernelspec": {
   "display_name": "venv",
   "language": "python",
   "name": "python3"
  },
  "language_info": {
   "codemirror_mode": {
    "name": "ipython",
    "version": 3
   },
   "file_extension": ".py",
   "mimetype": "text/x-python",
   "name": "python",
   "nbconvert_exporter": "python",
   "pygments_lexer": "ipython3",
   "version": "3.12.3"
  }
 },
 "nbformat": 4,
 "nbformat_minor": 2
}
