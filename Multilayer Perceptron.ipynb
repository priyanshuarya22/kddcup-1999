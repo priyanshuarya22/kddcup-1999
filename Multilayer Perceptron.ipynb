{
 "cells": [
  {
   "cell_type": "markdown",
   "metadata": {},
   "source": [
    "# Multilayer Perceptron Supervised Anomaly Detection"
   ]
  },
  {
   "cell_type": "code",
   "execution_count": 1,
   "metadata": {},
   "outputs": [
    {
     "name": "stdout",
     "output_type": "stream",
     "text": [
      "seaborn:  0.13.2\n"
     ]
    }
   ],
   "source": [
    "import numpy as np\n",
    "import pandas as pd\n",
    "import matplotlib.pyplot as plt\n",
    "from sklearn.model_selection import train_test_split\n",
    "from sklearn.preprocessing import LabelEncoder\n",
    "from sklearn.metrics import precision_score, recall_score, f1_score, confusion_matrix, roc_auc_score\n",
    "\n",
    "import seaborn as sns\n",
    "print('seaborn: ', sns.__version__)"
   ]
  },
  {
   "cell_type": "code",
   "execution_count": 2,
   "metadata": {},
   "outputs": [],
   "source": [
    "columns = [\"duration\", \"protocol_type\", \"service\", \"flag\", \"src_bytes\",\n",
    "\"dst_bytes\", \"land\", \"wrong_fragment\", \"urgent\", \n",
    "\"hot\", \"num_failed_logins\", \"logged_in\", \"num_compromised\", \n",
    "\"root_shell\", \"su_attempted\", \"num_root\", \n",
    "\"num_file_creations\", \"num_shells\", \"num_access_files\", \n",
    "\"num_outbound_cmds\", \"is_host_login\", \n",
    "\"is_guest_login\", \"count\", \"srv_count\", \"serror_rate\",\n",
    "\"srv_serror_rate\", \"rerror_rate\", \"srv_rerror_rate\", \n",
    "\"same_srv_rate\", \"diff_srv_rate\", \"srv_diff_host_rate\", \n",
    "\"dst_host_count\", \"dst_host_srv_count\", \n",
    "\"dst_host_same_srv_rate\", \"dst_host_diff_srv_rate\",\n",
    "\"dst_host_same_src_port_rate\", \"dst_host_srv_diff_host_rate\", \n",
    "\"dst_host_serror_rate\", \"dst_host_srv_serror_rate\",\n",
    "\"dst_host_rerror_rate\", \"dst_host_srv_rerror_rate\", \"label\"]\n",
    "\n",
    "df = pd.read_csv(\"./kddcup.data/kddcup.data.corrected\", sep=\",\", names=columns, index_col=None) "
   ]
  },
  {
   "cell_type": "markdown",
   "metadata": {},
   "source": [
    "Filter to only 'http' attacks"
   ]
  },
  {
   "cell_type": "code",
   "execution_count": 3,
   "metadata": {},
   "outputs": [],
   "source": [
    "df = df[df[\"service\"] == \"http\"]\n",
    "df = df.drop(\"service\", axis=1)"
   ]
  },
  {
   "cell_type": "code",
   "execution_count": 4,
   "metadata": {},
   "outputs": [
    {
     "data": {
      "text/plain": [
       "label\n",
       "0    619046\n",
       "1      4045\n",
       "Name: count, dtype: int64"
      ]
     },
     "execution_count": 4,
     "metadata": {},
     "output_type": "execute_result"
    }
   ],
   "source": [
    "df['label'] = df['label'].apply(lambda x: 0 if x == 'normal.' else 1)\n",
    "df['label'].value_counts()"
   ]
  },
  {
   "cell_type": "code",
   "execution_count": 5,
   "metadata": {},
   "outputs": [],
   "source": [
    "datatypes = dict(zip(df.dtypes.index, df.dtypes))\n",
    "\n",
    "encoder_map = {}\n",
    "for col, datatype in datatypes.items():\n",
    "    if datatype == 'object':\n",
    "        encoder = LabelEncoder()\n",
    "        df[col] = encoder.fit_transform(df[col])\n",
    "        encoder_map[col] = encoder"
   ]
  },
  {
   "cell_type": "markdown",
   "metadata": {},
   "source": [
    "Check the variables with highest correlation with 'label'"
   ]
  },
  {
   "cell_type": "code",
   "execution_count": 6,
   "metadata": {},
   "outputs": [],
   "source": [
    "df2 = df.copy()\n",
    "label_corr = df2.corr()['label']"
   ]
  },
  {
   "cell_type": "markdown",
   "metadata": {},
   "source": [
    "Filter out anything that has null entry or is not weakly correlated"
   ]
  },
  {
   "cell_type": "code",
   "execution_count": 7,
   "metadata": {},
   "outputs": [
    {
     "data": {
      "text/plain": [
       "['src_bytes',\n",
       " 'hot',\n",
       " 'num_compromised',\n",
       " 'count',\n",
       " 'serror_rate',\n",
       " 'srv_serror_rate',\n",
       " 'same_srv_rate',\n",
       " 'diff_srv_rate',\n",
       " 'dst_host_srv_count',\n",
       " 'dst_host_same_srv_rate',\n",
       " 'dst_host_diff_srv_rate',\n",
       " 'dst_host_serror_rate',\n",
       " 'dst_host_srv_serror_rate']"
      ]
     },
     "execution_count": 7,
     "metadata": {},
     "output_type": "execute_result"
    }
   ],
   "source": [
    "train_cols = label_corr[(~label_corr.isna()) & (np.abs(label_corr) > 0.2)]\n",
    "train_cols = list(train_cols[:-1].index)\n",
    "train_cols"
   ]
  },
  {
   "cell_type": "code",
   "execution_count": 8,
   "metadata": {},
   "outputs": [],
   "source": [
    "labels = df2['label']"
   ]
  },
  {
   "cell_type": "markdown",
   "metadata": {},
   "source": [
    "Conduct a train-test split"
   ]
  },
  {
   "cell_type": "code",
   "execution_count": 9,
   "metadata": {},
   "outputs": [],
   "source": [
    "x_train, x_test, y_train, y_test = train_test_split(df2[train_cols].values, labels.values, test_size=0.15, random_state=42)"
   ]
  },
  {
   "cell_type": "markdown",
   "metadata": {},
   "source": [
    "Additional split of training dataset to create validation split"
   ]
  },
  {
   "cell_type": "code",
   "execution_count": 10,
   "metadata": {},
   "outputs": [],
   "source": [
    "x_train, x_val, y_train, y_val = train_test_split(x_train, y_train, test_size=0.2, random_state=42)"
   ]
  },
  {
   "cell_type": "code",
   "execution_count": 11,
   "metadata": {},
   "outputs": [
    {
     "name": "stdout",
     "output_type": "stream",
     "text": [
      "Shapes\n",
      "x_train:(423701, 13)\n",
      "y_train:(423701,)\n",
      "\n",
      "x_val:(105926, 13)\n",
      "y_val:(105926,)\n",
      "\n",
      "x_test:(93464, 13)\n",
      "y_test:(93464,)\n"
     ]
    }
   ],
   "source": [
    "print(\"Shapes\")\n",
    "print(f\"x_train:{x_train.shape}\\ny_train:{y_train.shape}\")\n",
    "print(f\"\\nx_val:{x_val.shape}\\ny_val:{y_val.shape}\")\n",
    "print(f\"\\nx_test:{x_test.shape}\\ny_test:{y_test.shape}\")"
   ]
  },
  {
   "cell_type": "markdown",
   "metadata": {},
   "source": [
    "# Simple Neural Network: Keras"
   ]
  },
  {
   "cell_type": "code",
   "execution_count": 12,
   "metadata": {},
   "outputs": [],
   "source": [
    "from tensorflow.keras.utils import to_categorical\n",
    "\n",
    "y_train = to_categorical(y_train)\n",
    "y_test = to_categorical(y_test)\n",
    "y_val = to_categorical(y_val)"
   ]
  },
  {
   "cell_type": "code",
   "execution_count": 13,
   "metadata": {},
   "outputs": [
    {
     "name": "stdout",
     "output_type": "stream",
     "text": [
      "Shapes\n",
      "x_train:(423701, 13)\n",
      "y_train:(423701, 2)\n",
      "\n",
      "x_val:(105926, 13)\n",
      "y_val:(105926, 2)\n",
      "\n",
      "x_test:(93464, 13)\n",
      "y_test:(93464, 2)\n"
     ]
    }
   ],
   "source": [
    "print(\"Shapes\")\n",
    "print(f\"x_train:{x_train.shape}\\ny_train:{y_train.shape}\")\n",
    "print(f\"\\nx_val:{x_val.shape}\\ny_val:{y_val.shape}\")\n",
    "print(f\"\\nx_test:{x_test.shape}\\ny_test:{y_test.shape}\")"
   ]
  },
  {
   "cell_type": "code",
   "execution_count": 14,
   "metadata": {},
   "outputs": [],
   "source": [
    "from tensorflow.keras.models import Model\n",
    "from tensorflow.keras.layers import Input, Dense\n",
    "from tensorflow.keras.regularizers import L2\n",
    "from tensorflow.keras.callbacks import EarlyStopping"
   ]
  },
  {
   "cell_type": "markdown",
   "metadata": {},
   "source": [
    "The input layer requires you to specify the dimensionality of the x-features (and not the number of samples)"
   ]
  },
  {
   "cell_type": "code",
   "execution_count": 17,
   "metadata": {},
   "outputs": [],
   "source": [
    "input_layer = Input(shape=(13,))\n",
    "h1 = Dense(26, activation='relu', kernel_initializer='he_uniform', kernel_regularizer=L2(l2=1e-5))(input_layer)\n",
    "h2 = Dense(26, activation='relu', kernel_initializer='he_uniform', kernel_regularizer=L2(l2=1e-5))(h1)\n",
    "h3 = Dense(26, activation='relu', kernel_initializer='he_uniform', kernel_regularizer=L2(l2=1e-5))(h2)\n",
    "h4 = Dense(6, activation='relu', kernel_initializer='he_uniform', kernel_regularizer=L2(l2=1e-5))(h3)\n",
    "output_layer = Dense(2, activation='softmax', kernel_regularizer=L2(l2=1e-5))(h4)"
   ]
  },
  {
   "cell_type": "markdown",
   "metadata": {},
   "source": [
    "Creating a model by specifying the input layer and output layer"
   ]
  },
  {
   "cell_type": "code",
   "execution_count": 18,
   "metadata": {},
   "outputs": [],
   "source": [
    "model = Model(input_layer, output_layer)"
   ]
  },
  {
   "cell_type": "code",
   "execution_count": 20,
   "metadata": {},
   "outputs": [],
   "source": [
    "es = EarlyStopping(patience=5, min_delta=1e-3, monitor='val_loss', restore_best_weights=True)\n",
    "\n",
    "callbacks = [es]\n",
    "\n",
    "model.compile(optimizer='adam', loss='categorical_crossentropy', metrics=['accuracy'])"
   ]
  },
  {
   "cell_type": "code",
   "execution_count": 21,
   "metadata": {},
   "outputs": [
    {
     "name": "stdout",
     "output_type": "stream",
     "text": [
      "Epoch 1/20\n",
      "\u001b[1m3311/3311\u001b[0m \u001b[32m━━━━━━━━━━━━━━━━━━━━\u001b[0m\u001b[37m\u001b[0m \u001b[1m14s\u001b[0m 3ms/step - accuracy: 0.9962 - loss: 0.1237 - val_accuracy: 0.9993 - val_loss: 0.0079\n",
      "Epoch 2/20\n",
      "\u001b[1m3311/3311\u001b[0m \u001b[32m━━━━━━━━━━━━━━━━━━━━\u001b[0m\u001b[37m\u001b[0m \u001b[1m7s\u001b[0m 2ms/step - accuracy: 0.9992 - loss: 0.0340 - val_accuracy: 0.9999 - val_loss: 0.0030\n",
      "Epoch 3/20\n",
      "\u001b[1m3311/3311\u001b[0m \u001b[32m━━━━━━━━━━━━━━━━━━━━\u001b[0m\u001b[37m\u001b[0m \u001b[1m5s\u001b[0m 1ms/step - accuracy: 0.9996 - loss: 0.0168 - val_accuracy: 0.9962 - val_loss: 0.0136\n",
      "Epoch 4/20\n",
      "\u001b[1m3311/3311\u001b[0m \u001b[32m━━━━━━━━━━━━━━━━━━━━\u001b[0m\u001b[37m\u001b[0m \u001b[1m10s\u001b[0m 3ms/step - accuracy: 0.9964 - loss: 0.0080 - val_accuracy: 0.9962 - val_loss: 0.0093\n",
      "Epoch 5/20\n",
      "\u001b[1m3311/3311\u001b[0m \u001b[32m━━━━━━━━━━━━━━━━━━━━\u001b[0m\u001b[37m\u001b[0m \u001b[1m8s\u001b[0m 2ms/step - accuracy: 0.9963 - loss: 0.0081 - val_accuracy: 0.9962 - val_loss: 0.0086\n",
      "Epoch 6/20\n",
      "\u001b[1m3311/3311\u001b[0m \u001b[32m━━━━━━━━━━━━━━━━━━━━\u001b[0m\u001b[37m\u001b[0m \u001b[1m9s\u001b[0m 3ms/step - accuracy: 0.9968 - loss: 0.0072 - val_accuracy: 0.9945 - val_loss: 0.0089\n",
      "Epoch 7/20\n",
      "\u001b[1m3311/3311\u001b[0m \u001b[32m━━━━━━━━━━━━━━━━━━━━\u001b[0m\u001b[37m\u001b[0m \u001b[1m6s\u001b[0m 2ms/step - accuracy: 0.9965 - loss: 0.0072 - val_accuracy: 0.9988 - val_loss: 0.0057\n"
     ]
    }
   ],
   "source": [
    "epochs = 20\n",
    "batch_size = 128\n",
    "\n",
    "history = model.fit(x_train, y_train, validation_data=(x_val, y_val), epochs=epochs, batch_size=batch_size, callbacks=callbacks)"
   ]
  },
  {
   "cell_type": "code",
   "execution_count": 22,
   "metadata": {},
   "outputs": [
    {
     "name": "stdout",
     "output_type": "stream",
     "text": [
      "\u001b[1m2921/2921\u001b[0m \u001b[32m━━━━━━━━━━━━━━━━━━━━\u001b[0m\u001b[37m\u001b[0m \u001b[1m3s\u001b[0m 1ms/step - accuracy: 1.0000 - loss: 0.0017\n"
     ]
    },
    {
     "data": {
      "text/plain": [
       "[0.0017947850283235312, 0.999903678894043]"
      ]
     },
     "execution_count": 22,
     "metadata": {},
     "output_type": "execute_result"
    }
   ],
   "source": [
    "model.evaluate(x_test, y_test)"
   ]
  },
  {
   "cell_type": "code",
   "execution_count": 23,
   "metadata": {},
   "outputs": [
    {
     "name": "stdout",
     "output_type": "stream",
     "text": [
      "\u001b[1m2921/2921\u001b[0m \u001b[32m━━━━━━━━━━━━━━━━━━━━\u001b[0m\u001b[37m\u001b[0m \u001b[1m3s\u001b[0m 902us/step\n"
     ]
    }
   ],
   "source": [
    "preds = model.predict(x_test)"
   ]
  },
  {
   "cell_type": "markdown",
   "metadata": {},
   "source": [
    "One hot to the original label encodings"
   ]
  },
  {
   "cell_type": "code",
   "execution_count": 24,
   "metadata": {},
   "outputs": [],
   "source": [
    "y_true = y_test.argmax(axis=1)"
   ]
  },
  {
   "cell_type": "markdown",
   "metadata": {},
   "source": [
    "Derive the label predictions from the probability scores"
   ]
  },
  {
   "cell_type": "code",
   "execution_count": 25,
   "metadata": {},
   "outputs": [],
   "source": [
    "y_preds = preds.argmax(axis=1)"
   ]
  },
  {
   "cell_type": "markdown",
   "metadata": {},
   "source": [
    "Compute precision, recall, f1 scores"
   ]
  },
  {
   "cell_type": "code",
   "execution_count": 26,
   "metadata": {},
   "outputs": [
    {
     "name": "stdout",
     "output_type": "stream",
     "text": [
      "Precision: 0.9895104895104895\n",
      "Recall: 0.9947275922671354\n",
      "F1-Measure: 0.9921121822962313\n"
     ]
    }
   ],
   "source": [
    "precision = precision_score(y_true, y_preds)\n",
    "recall = recall_score(y_true, y_preds)\n",
    "f1_measure = f1_score(y_true, y_preds)\n",
    "\n",
    "print(f\"Precision: {precision}\")\n",
    "print(f\"Recall: {recall}\")\n",
    "print(f\"F1-Measure: {f1_measure}\")"
   ]
  },
  {
   "cell_type": "code",
   "execution_count": 27,
   "metadata": {},
   "outputs": [
    {
     "data": {
      "text/plain": [
       "0.99733150160749"
      ]
     },
     "execution_count": 27,
     "metadata": {},
     "output_type": "execute_result"
    }
   ],
   "source": [
    "roc_auc_score(y_true, y_preds)"
   ]
  },
  {
   "cell_type": "code",
   "execution_count": 28,
   "metadata": {},
   "outputs": [
    {
     "data": {
      "text/plain": [
       "Text(50.722222222222214, 0.5, 'True Label')"
      ]
     },
     "execution_count": 28,
     "metadata": {},
     "output_type": "execute_result"
    },
    {
     "data": {
      "image/png": "[encoded data removed]",
      "text/plain": [
       "<Figure size 640x480 with 2 Axes>"
      ]
     },
     "metadata": {},
     "output_type": "display_data"
    }
   ],
   "source": [
    "cm = confusion_matrix(y_true, y_preds)\n",
    "plt.title(\"Confusion Matrix\")\n",
    "ax = sns.heatmap(cm, annot=True, fmt='0.0f')\n",
    "ax.invert_yaxis()\n",
    "ax.invert_xaxis()\n",
    "ax.set_xlabel('Predicted Label')\n",
    "ax.set_ylabel('True Label')"
   ]
  },
  {
   "cell_type": "markdown",
   "metadata": {},
   "source": [
    "# Simple Neural Network: PyTorch"
   ]
  },
  {
   "cell_type": "code",
   "execution_count": 29,
   "metadata": {},
   "outputs": [
    {
     "name": "stdout",
     "output_type": "stream",
     "text": [
      "Torch version: 2.3.0+cpu\n"
     ]
    }
   ],
   "source": [
    "import torch\n",
    "\n",
    "print(f\"Torch version: {torch.__version__}\")\n",
    "from torch.nn import Linear, CrossEntropyLoss\n",
    "from torch.optim import Adam\n",
    "from torch.utils.data import DataLoader, Dataset, TensorDataset"
   ]
  },
  {
   "cell_type": "code",
   "execution_count": 30,
   "metadata": {},
   "outputs": [],
   "source": [
    "x_train, x_test, y_train, y_test = train_test_split(df2[train_cols].values, labels.values, test_size=0.15, random_state=42)"
   ]
  },
  {
   "cell_type": "code",
   "execution_count": 31,
   "metadata": {},
   "outputs": [],
   "source": [
    "x_train, x_val, y_train, y_val = train_test_split(x_train, y_train, test_size=0.2, random_state=42)"
   ]
  },
  {
   "cell_type": "code",
   "execution_count": 32,
   "metadata": {},
   "outputs": [],
   "source": [
    "x_train = torch.Tensor(x_train)\n",
    "y_train = torch.Tensor(y_train).type(torch.long)\n",
    "\n",
    "x_val = torch.Tensor(x_val)\n",
    "y_val = torch.Tensor(y_val).type(torch.long)\n",
    "\n",
    "x_test = torch.Tensor(x_test)\n",
    "y_test = torch.Tensor(y_test).type(torch.long)\n",
    "\n",
    "train_set = TensorDataset(x_train, y_train)\n",
    "val_set = TensorDataset(x_val, y_val)\n",
    "test_set = TensorDataset(x_test, y_test)\n",
    "\n",
    "train_dataloader = DataLoader(train_set, batch_size=128)\n",
    "val_dataloader = DataLoader(val_set, batch_size=128)\n",
    "test_dataloader = DataLoader(test_set, batch_size=128)"
   ]
  },
  {
   "cell_type": "code",
   "execution_count": 33,
   "metadata": {},
   "outputs": [],
   "source": [
    "class model(torch.nn.Module):\n",
    "    def __init__(self):\n",
    "        super().__init__()\n",
    "\n",
    "        self.h1 = Linear(13, 26)\n",
    "        self.h2 = Linear(26, 26)\n",
    "        self.h3 = Linear(26, 26)\n",
    "        self.h4 = Linear(26, 6)\n",
    "        self.h5 = Linear(6, 2)\n",
    "    \n",
    "    def forward(self, x):\n",
    "        x = self.h1(x).relu()\n",
    "        x = self.h2(x).relu()\n",
    "        x = self.h3(x).relu()\n",
    "        x = self.h4(x).relu()\n",
    "        x = self.h5(x)\n",
    "\n",
    "        return x\n",
    "\n",
    "mlp = model()"
   ]
  },
  {
   "cell_type": "code",
   "execution_count": 34,
   "metadata": {},
   "outputs": [],
   "source": [
    "optim = Adam(mlp.parameters(), lr=1e-3)\n",
    "criterion = CrossEntropyLoss()"
   ]
  },
  {
   "cell_type": "code",
   "execution_count": 36,
   "metadata": {},
   "outputs": [
    {
     "name": "stdout",
     "output_type": "stream",
     "text": [
      "Epoch 0 / 20: 827/828 | loss: 0.000905855093151331 acc: 1.0 val_loss: 0.004336758054793444 val_acc: 0.9971583935955289                                                                                 \n",
      "Epoch 1 / 20: 827/828 | loss: 0.0009898539865389466 acc: 1.0 val_loss: 0.002541760129770849 val_acc: 0.9999055944716122                                                                                \n",
      "Epoch 2 / 20: 827/828 | loss: 0.0009693336323834956 acc: 1.0 val_loss: 0.0025672871841045755 val_acc: 0.9998961539187735                                                                               \n",
      "Epoch 3 / 20: 827/828 | loss: 0.0007503976230509579 acc: 1.0 val_loss: 0.0024816363507624184 val_acc: 0.9998961539187735                                                                               \n",
      "Epoch 4 / 20: 827/828 | loss: 0.0011171085061505437 acc: 1.0 val_loss: 0.004344329490311723 val_acc: 0.9996601400978041                                                                                \n",
      "Epoch 5 / 20: 827/828 | loss: 0.0008352124714292586 acc: 1.0 val_loss: 0.003717697082803886 val_acc: 0.9995374129109                                                                                   \n",
      "Epoch 6 / 20: 827/828 | loss: 0.0008618152351118624 acc: 1.0 val_loss: 0.003749392300609112 val_acc: 0.9998583917074184                                                                                \n",
      "Epoch 7 / 20: 827/828 | loss: 0.0009187014657072723 acc: 1.0 val_loss: 0.004351323621546071 val_acc: 0.9999055944716122                                                                                \n",
      "Epoch 8 / 20: 827/828 | loss: 0.0009064144687727094 acc: 1.0 val_loss: 0.0080679566808217 val_acc: 0.9962615410758454                                                                                  \n",
      "Epoch 8 / 20: 827/828 | loss: 0.0009064144687727094 acc: 1.0 val_loss: 0.0080679566808217 val_acc: 0.9962615410758454 Early Stopping                                                                   \n"
     ]
    }
   ],
   "source": [
    "epochs = 20\n",
    "tolerance = 1e-3\n",
    "lambda_ = 1e-5\n",
    "best_loss = np.inf\n",
    "patience = 5\n",
    "early_stop_counter = 0\n",
    "best_save_path = 'mlp_pytorch_best.pt'\n",
    "# mlp.cuda()\n",
    "for e in range(epochs):\n",
    "    for i, (data, labels) in enumerate(train_dataloader):\n",
    "        optim.zero_grad()\n",
    "\n",
    "        # data = data.cuda()\n",
    "        # labels = labels.cuda()\n",
    "\n",
    "        preds = mlp.forward(data)\n",
    "        loss = criterion(preds, labels)\n",
    "\n",
    "        l2_norm = sum(p.pow(2.0).sum() for p in mlp.parameters())\n",
    "        loss = loss + lambda_ * l2_norm\n",
    "\n",
    "        loss.backward()\n",
    "        optim.step()\n",
    "        predictions = preds.detach().cpu().numpy().argmax(axis=1)\n",
    "        y_true = labels.detach().cpu().numpy()\n",
    "        acc = np.mean(y_true == predictions)\n",
    "        print(f'\\rEpoch {e} / {epochs}: {i}/{len(train_dataloader)} | loss: {loss.item()} acc: {acc}'.ljust(200, ' '), end='')\n",
    "    \n",
    "    # Validation\n",
    "\n",
    "    with torch.no_grad():\n",
    "        hold = np.array([])\n",
    "        loss_hold = []\n",
    "        for i, (data, labels) in enumerate(val_dataloader):\n",
    "            # data = data.cuda()\n",
    "            # labels = labels.cuda()\n",
    "\n",
    "            preds = mlp.forward(data)\n",
    "\n",
    "            loss = criterion(preds, labels)\n",
    "            l2_norm = sum(p.pow(2.0).sum() for p in mlp.parameters())\n",
    "            loss = loss + lambda_ * l2_norm\n",
    "\n",
    "            predictions = preds.detach().cpu().numpy().argmax(axis=1)\n",
    "            y_true = labels.detach().cpu().numpy()\n",
    "\n",
    "            hold = np.concatenate((y_true == predictions, hold))\n",
    "            loss_hold.append(loss.item())\n",
    "        \n",
    "        val_acc = np.mean(hold)\n",
    "        val_loss = np.mean(loss_hold)\n",
    "        print(f'\\rEpoch {e} / {epochs}: {i}/{len(val_dataloader)} | loss: {loss.item()} acc: {acc} val_loss: {val_loss} val_acc: {val_acc}'.ljust(200, ' '), end='\\n')\n",
    "    \n",
    "    if val_loss < best_loss:\n",
    "        best_loss = val_loss\n",
    "        early_stop_counter = 0\n",
    "\n",
    "        torch.save(mlp.state_dict(), best_save_path)\n",
    "    elif abs(best_loss - val_loss) <= tolerance:\n",
    "        pass\n",
    "    else:\n",
    "        early_stop_counter += 1\n",
    "\n",
    "        if early_stop_counter >= patience:\n",
    "            print(f'\\rEpoch {e} / {epochs}: {i}/{len(val_dataloader)} | loss: {loss.item()} acc: {acc} val_loss: {val_loss} val_acc: {val_acc} Early Stopping'.ljust(200, ' '), end='\\n')\n",
    "            mlp.load_state_dict(torch.load(best_save_path))\n",
    "            break"
   ]
  },
  {
   "cell_type": "code",
   "execution_count": 37,
   "metadata": {},
   "outputs": [
    {
     "name": "stdout",
     "output_type": "stream",
     "text": [
      "Evaluating 730/731 | loss: 0.0006093252457587395 acc: 0.9999465034665753                                                                                                                               "
     ]
    }
   ],
   "source": [
    "with torch.no_grad():\n",
    "    hold = np.array([])\n",
    "    loss_hold = []\n",
    "    for i, (data, labels) in enumerate(test_dataloader):\n",
    "        # data = data.cuda()\n",
    "        # labels = labels.cuda()\n",
    "\n",
    "        preds = mlp.forward(data)\n",
    "\n",
    "        loss = criterion(preds, labels)\n",
    "\n",
    "        predictions = preds.detach().cpu().numpy().argmax(axis=1)\n",
    "        y_true = labels.detach().cpu().numpy()\n",
    "\n",
    "        hold = np.concatenate((y_true == predictions, hold))\n",
    "        loss_hold.append(loss.item())\n",
    "        print(f'\\rEvaluating {i}/{len(test_dataloader)} | loss: {loss.item()} acc: {np.mean(y_true==predictions)}'.ljust(200, ' '), end='')\n",
    "    \n",
    "    test_acc = np.mean(hold)\n",
    "    test_loss = np.mean(loss_hold)\n",
    "    print(f'\\rEvaluating {i}/{len(test_dataloader)} | loss: {test_loss} acc: {test_acc}'.ljust(200, ' '), end='')"
   ]
  },
  {
   "cell_type": "code",
   "execution_count": 38,
   "metadata": {},
   "outputs": [],
   "source": [
    "# preds = mlp.forward(x_test.cuda())\n",
    "preds = mlp.forward(x_test)"
   ]
  },
  {
   "cell_type": "markdown",
   "metadata": {},
   "source": [
    "Detach from Cuda and derive the label predictions from the probability scores"
   ]
  },
  {
   "cell_type": "code",
   "execution_count": 39,
   "metadata": {},
   "outputs": [],
   "source": [
    "y_preds = preds.detach().cpu().numpy().argmax(axis=1)"
   ]
  },
  {
   "cell_type": "markdown",
   "metadata": {},
   "source": [
    "Original labels become a tensor, so convert back to a numpy array"
   ]
  },
  {
   "cell_type": "code",
   "execution_count": 40,
   "metadata": {},
   "outputs": [],
   "source": [
    "y_true = y_test.numpy()"
   ]
  },
  {
   "cell_type": "markdown",
   "metadata": {},
   "source": [
    "Compute precision, racall, f1 scores"
   ]
  },
  {
   "cell_type": "code",
   "execution_count": 42,
   "metadata": {},
   "outputs": [
    {
     "name": "stdout",
     "output_type": "stream",
     "text": [
      "Precision: 0.9982332155477032\n",
      "Recall: 0.9929701230228472\n",
      "F1-Measure: 0.9955947136563876\n"
     ]
    }
   ],
   "source": [
    "precision = precision_score(y_true, y_preds)\n",
    "recall = recall_score(y_true, y_preds)\n",
    "f1_measure = f1_score(y_true, y_preds)\n",
    "\n",
    "print(f\"Precision: {precision}\")\n",
    "print(f\"Recall: {recall}\")\n",
    "print(f\"F1-Measure: {f1_measure}\")"
   ]
  },
  {
   "cell_type": "code",
   "execution_count": 43,
   "metadata": {},
   "outputs": [
    {
     "data": {
      "text/plain": [
       "0.9964796790904107"
      ]
     },
     "execution_count": 43,
     "metadata": {},
     "output_type": "execute_result"
    }
   ],
   "source": [
    "roc_auc_score(y_true, y_preds)"
   ]
  },
  {
   "cell_type": "code",
   "execution_count": 44,
   "metadata": {},
   "outputs": [
    {
     "data": {
      "text/plain": [
       "Text(50.722222222222214, 0.5, 'True Label')"
      ]
     },
     "execution_count": 44,
     "metadata": {},
     "output_type": "execute_result"
    },
    {
     "data": {
      "image/png": "[encoded data removed]",
      "text/plain": [
       "<Figure size 640x480 with 2 Axes>"
      ]
     },
     "metadata": {},
     "output_type": "display_data"
    }
   ],
   "source": [
    "cm = confusion_matrix(y_true, y_preds)\n",
    "plt.title(\"Confusion Matrix\")\n",
    "ax = sns.heatmap(cm, annot=True, fmt='0.0f')\n",
    "ax.invert_yaxis()\n",
    "ax.invert_xaxis()\n",
    "ax.set_xlabel('Predicted Label')\n",
    "ax.set_ylabel('True Label')"
   ]
  }
 ],
 "metadata": {
  "kernelspec": {
   "display_name": "venv",
   "language": "python",
   "name": "python3"
  },
  "language_info": {
   "codemirror_mode": {
    "name": "ipython",
    "version": 3
   },
   "file_extension": ".py",
   "mimetype": "text/x-python",
   "name": "python",
   "nbconvert_exporter": "python",
   "pygments_lexer": "ipython3",
   "version": "3.12.3"
  }
 },
 "nbformat": 4,
 "nbformat_minor": 2
}
